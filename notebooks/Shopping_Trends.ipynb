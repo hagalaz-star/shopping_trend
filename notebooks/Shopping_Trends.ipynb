{
  "cells": [
    {
      "cell_type": "code",
      "execution_count": null,
      "metadata": {
        "id": "Kx4yA93BXbXr"
      },
      "outputs": [],
      "source": [
        "import pandas as pd\n",
        "\n",
        "df = pd.read_csv(\"/content/drive/MyDrive/쇼핑트렌드/shopping_trends_updated.csv\")\n",
        "df.head()"
      ]
    },
    {
      "cell_type": "code",
      "execution_count": null,
      "metadata": {
        "id": "sd5e0wsSj8RH"
      },
      "outputs": [],
      "source": []
    },
    {
      "cell_type": "code",
      "execution_count": null,
      "metadata": {
        "id": "QLcpxKetadPV"
      },
      "outputs": [],
      "source": [
        "df.tail()"
      ]
    },
    {
      "cell_type": "markdown",
      "metadata": {
        "id": "q9hp9f8TYULy"
      },
      "source": [
        "Customer ID: 고객을 식별하는 고유 번호\n",
        "\n",
        "Age: 고객의 나이\n",
        "\n",
        "Gender: 고객의 성별 (남성/여성)\n",
        "\n",
        "Item Purchased: 고객이 구매한 상품명\n",
        "\n",
        "Category: 상품이 속한 카테고리\n",
        "\n",
        "Purchase Amount (USD): 구매 금액(달러 기준)\n",
        "\n",
        "Location: 구매가 이루어진 장소 또는 지역\n",
        "\n",
        "Size: 구매한 상품의 사이즈\n",
        "\n",
        "Color: 구매한 상품의 색상\n",
        "\n",
        "Season: 구매가 이루어진 계절\n",
        "\n",
        "Review Rating: 고객이 남긴 상품 평점\n",
        "\n",
        "Subscription Status: 구독 서비스 가입 여부 (예/아니오)\n",
        "\n",
        "Shipping Type: 선택한 배송 방식\n",
        "\n",
        "Discount Applied: 할인 적용 여부 (예/아니오)\n",
        "\n",
        "Promo Code Used: 프로모션 코드 사용 여부 (예/아니오)\n",
        "\n",
        "Previous Purchases: 이전 구매 횟수(이번 거래 제외)\n",
        "\n",
        "Payment Method: 선호 결제 방식\n",
        "\n",
        "Frequency of Purchases: 구매 빈도 (예: 매주, 격주, 매월 등)"
      ]
    },
    {
      "cell_type": "code",
      "execution_count": null,
      "metadata": {
        "id": "8xgjQ_GRX7sJ"
      },
      "outputs": [],
      "source": [
        "df.isnull().sum()"
      ]
    },
    {
      "cell_type": "code",
      "execution_count": null,
      "metadata": {
        "id": "YUXCUkT2ZK9f"
      },
      "outputs": [],
      "source": [
        "df.describe().round(0)"
      ]
    },
    {
      "cell_type": "code",
      "execution_count": null,
      "metadata": {
        "id": "6cRQ7E29s2rv"
      },
      "outputs": [],
      "source": [
        "df.info()"
      ]
    },
    {
      "cell_type": "markdown",
      "metadata": {
        "id": "Szzl4S-rBdry"
      },
      "source": [
        "# 모든 18개 컬럼을 사용하는 대신, \"고객을 나누는 가장 의미 있는 기준이 무엇일까?\n",
        "\n",
        "가장 적합한 4개의 컬럼을 의도적으로 선택했다."
      ]
    },
    {
      "cell_type": "code",
      "execution_count": null,
      "metadata": {
        "id": "BmmEZrEHtX4r"
      },
      "outputs": [],
      "source": [
        "df_selected = df[[\"Age\",\"Purchase Amount (USD)\", \"Subscription Status\", \"Frequency of Purchases\"]]\n",
        "df_selected = pd.get_dummies(df_selected, columns=[\"Subscription Status\"] , drop_first=True)\n",
        "df_selected = pd.get_dummies(df_selected, columns=[\"Frequency of Purchases\"])\n",
        "df_selected\n"
      ]
    },
    {
      "cell_type": "code",
      "execution_count": null,
      "metadata": {
        "id": "YzCPw8dkxNQk"
      },
      "outputs": [],
      "source": [
        "print(\"더미 후 df_selected의 정보:\")\n",
        "df_selected.info()\n",
        "print(\"\\n더미  후 df_selected의 처음 5행:\")\n",
        "print(df_selected.head())"
      ]
    },
    {
      "cell_type": "code",
      "execution_count": null,
      "metadata": {
        "id": "oOmWezw36RXf"
      },
      "outputs": [],
      "source": [
        "# bool 타입을 int 타입으로 변환 (True -> 1, False -> 0)\n",
        "df_selected_numeric = df_selected.astype(int)\n",
        "\n",
        "# 변환 결과 확인 (선택 사항)\n",
        "print(\"bool 타입 변환 후 df_selected_numeric의 정보:\")\n",
        "df_selected_numeric.info()\n",
        "print(\"\\nbool 타입 변환 후 df_selected_numeric의 처음 5행:\")\n",
        "print(df_selected_numeric.head())"
      ]
    },
    {
      "cell_type": "code",
      "execution_count": null,
      "metadata": {
        "id": "rXfm60KK6SzB"
      },
      "outputs": [],
      "source": [
        "from sklearn.preprocessing import StandardScaler\n",
        "\n",
        "# 스케일러 객체 생성\n",
        "scaler = StandardScaler()\n",
        "\n",
        "# 데이터 스케일링 (fit_transform 사용)\n",
        "df_scaled = scaler.fit_transform(df_selected_numeric)\n",
        "\n",
        "# 스케일링된 데이터를 DataFrame으로 변환\n",
        "df_scaled = pd.DataFrame(df_scaled, columns=df_selected_numeric.columns)\n",
        "\n"
      ]
    },
    {
      "cell_type": "code",
      "execution_count": null,
      "metadata": {
        "id": "C0TdFQYmWaDL"
      },
      "outputs": [],
      "source": [
        "# 스케일링 결과 확인\n",
        "print(\"\\n스케일링 후 df_scaled의 정보:\")\n",
        "df_scaled.info()\n",
        "print(\"\\n스케일링 후 df_scaled의 처음 5행:\")\n",
        "print(df_scaled.head())\n",
        "print(\"\\n스케일링 후 df_scaled의 기술 통계량 (평균과 표준편차 확인):\")\n",
        "print(df_scaled.describe())"
      ]
    },
    {
      "cell_type": "code",
      "execution_count": null,
      "metadata": {
        "id": "wT21qrEg2mvG"
      },
      "outputs": [],
      "source": [
        "df_scaled.head()"
      ]
    },
    {
      "cell_type": "code",
      "execution_count": null,
      "metadata": {
        "id": "-aSQIBGYWd9P"
      },
      "outputs": [],
      "source": [
        "from sklearn.decomposition import PCA\n",
        "from sklearn.cluster import KMeans\n",
        "import seaborn as sns\n",
        "import matplotlib.pyplot as plt\n",
        "\n",
        "# K-means 클러스터링 수행\n",
        "kmeans = KMeans(n_clusters=3, random_state=0, n_init=\"auto\").fit(df_scaled)\n",
        "labels = kmeans.predict(df_scaled) # kmeans.labels_\n",
        "\n",
        "features_for_pca = df_scaled.copy()\n",
        "\n",
        "# PCA 모델 생성 (2개의 주성분으로 축소)\n",
        "pca = PCA(n_components=2)\n",
        "df_pca = pca.fit_transform(features_for_pca)\n",
        "\n",
        "\n",
        "# 설명된 분산 비율 확인 (선택 사항)\n",
        "print(f\"PCA 설명된 분산 비율: {pca.explained_variance_ratio_}\")\n",
        "print(f\"두 주성분으로 설명되는 총 분산: {sum(pca.explained_variance_ratio_)}\")\n"
      ]
    },
    {
      "cell_type": "code",
      "execution_count": null,
      "metadata": {
        "id": "IEbAyd5mtnPX"
      },
      "outputs": [],
      "source": [
        "labels"
      ]
    },
    {
      "cell_type": "code",
      "execution_count": null,
      "metadata": {
        "id": "QZ6I4KwEq9GW"
      },
      "outputs": [],
      "source": [
        "df_pca"
      ]
    },
    {
      "cell_type": "code",
      "execution_count": null,
      "metadata": {
        "id": "2vjcIWg4qgC2"
      },
      "outputs": [],
      "source": [
        "# PCA 결과를 DataFrame으로 만들고 레이블 추가\n",
        "df_pca_labeled = pd.DataFrame(data=df_pca, columns=['PC1', 'PC2'])\n",
        "# 여기에 클러스터 레이블 컬럼 추가\n",
        "df_pca_labeled['label'] = labels\n",
        "\n",
        "# PCA 결과 시각화\n",
        "plt.figure(figsize=(10, 7))\n",
        "sns.scatterplot(data=df_pca_labeled, x='PC1', y='PC2', hue='label', palette='viridis', s=70, alpha=0.7) # s는 점 크기, alpha는 투명도\n",
        "plt.title('K-Means Clustering visualized with 2D PCA')\n",
        "plt.xlabel('Principal Component 1 (PC1)')\n",
        "plt.ylabel('Principal Component 2 (PC2)')\n",
        "plt.legend(title='Cluster Label')\n",
        "plt.grid(True)\n",
        "plt.show()"
      ]
    },
    {
      "cell_type": "code",
      "execution_count": null,
      "metadata": {
        "id": "Gho-RHll0Oog"
      },
      "outputs": [],
      "source": [
        "print(df_scaled.columns)"
      ]
    },
    {
      "cell_type": "code",
      "execution_count": null,
      "metadata": {
        "id": "eHxS8CIv3Hb_"
      },
      "outputs": [],
      "source": [
        "from sklearn.decomposition import PCA\n",
        "from sklearn.cluster import KMeans\n",
        "import seaborn as sns\n",
        "import matplotlib.pyplot as plt\n",
        "\n",
        "# K-means 클러스터링 수행\n",
        "kmeans_plus = KMeans(n_clusters=5, random_state=0, n_init=\"auto\").fit(df_scaled)\n",
        "labels = kmeans_plus.predict(df_scaled) # kmeans.labels"
      ]
    },
    {
      "cell_type": "code",
      "execution_count": null,
      "metadata": {
        "id": "NViGVMW604jI"
      },
      "outputs": [],
      "source": [
        "if 'label' in df_scaled.columns:\n",
        "    # K-Means 학습 후 df_scaled에 혹시 'label'이 남아있다면 (보통은 안 남아있음, fit의 입력은 그대로 유지되므로),\n",
        "    # 또는 다른 이유로 df_scaled에 'label'이 있다면 제거합니다.\n",
        "    # 하지만 더 중요한 것은 K-Means의 fit에 들어가는 df_scaled 자체가 깨끗해야 한다.\n",
        "    # 여기서는 K-Means에 사용된 df_scaled와 동일한 (레이블 없는) 특성셋을 PCA에 사용한다고 가정.\n",
        "    features_for_pca_plus = df_scaled.drop('label', axis=1, errors='ignore').copy()\n",
        "    if 'label' not in df_scaled.columns : # errors='ignore' 때문에 실제로 제거되었는지 확인 불필요\n",
        "         print(\"PCA 입력 데이터 준비: df_scaled에 'label' 컬럼이 없어 그대로 사용합니다 (또는 이미 제거됨).\")\n",
        "    else:\n",
        "         print(\"PCA 입력 데이터 준비: df_scaled에서 'label' 컬럼을 제거했습니다.\")\n",
        "else:\n",
        "    features_for_pca_plus = df_scaled.copy()\n",
        "    print(\"PCA 입력 데이터 준비: df_scaled에 'label' 컬럼이 없어 그대로 사용합니다.\")\n"
      ]
    },
    {
      "cell_type": "code",
      "execution_count": null,
      "metadata": {
        "id": "Tx0ilU2UxPOr"
      },
      "outputs": [],
      "source": [
        "\n",
        "# PCA 모델 생성 (2개의 주성분으로 축소)\n",
        "pca_k5 = PCA(n_components=2)\n",
        "df_pca_plus = pca_k5.fit_transform(features_for_pca_plus)\n",
        "\n",
        "\n",
        "# 설명된 분산 비율 확인 (선택 사항)\n",
        "print(f\"PCA 설명된 분산 비율: {pca.explained_variance_ratio_}\")\n",
        "print(f\"두 주성분으로 설명되는 총 분산: {sum(pca.explained_variance_ratio_)}\")\n",
        "\n"
      ]
    },
    {
      "cell_type": "code",
      "execution_count": null,
      "metadata": {
        "id": "lsxUk4f7xmtA"
      },
      "outputs": [],
      "source": [
        "# PCA 결과를 DataFrame으로 만들고 레이블 추가\n",
        "df_pca_labeled_plus = pd.DataFrame(data=df_pca_plus, columns=['PC1', 'PC2'])\n",
        "# 여기에 클러스터 레이블 컬럼 추가\n",
        "df_pca_labeled_plus['label'] = labels\n",
        "\n",
        "# PCA 결과 시각화\n",
        "plt.figure(figsize=(10, 7))\n",
        "sns.scatterplot(data=df_pca_labeled_plus, x='PC1', y='PC2', hue='label', palette='viridis', s=70, alpha=0.7) # s는 점 크기, alpha는 투명도\n",
        "plt.title('K-Means Clustering visualized with 2D PCA')\n",
        "plt.xlabel('Principal Component 1 (PC1)')\n",
        "plt.ylabel('Principal Component 2 (PC2)')\n",
        "plt.legend(title='Cluster Label')\n",
        "plt.grid(True)\n",
        "plt.show()"
      ]
    },
    {
      "cell_type": "code",
      "execution_count": null,
      "metadata": {
        "id": "y_3X3zGWzvJF"
      },
      "outputs": [],
      "source": [
        "wcss = [] # Within-Cluster Sum of Squares 값을 저장할 리스트\n",
        "k_values = range(1, 11) # 테스트해볼 K값의 범위 (예: 1부터 10까지)"
      ]
    },
    {
      "cell_type": "code",
      "execution_count": null,
      "metadata": {
        "id": "88c5b0jE32Sz"
      },
      "outputs": [],
      "source": [
        "for k in k_values:\n",
        "    kmeans_model = KMeans(n_clusters=k, random_state=0, n_init='auto')\n",
        "    kmeans_model.fit(df_scaled) # 여기서 df_scaled는 레이블 없는 순수 특성 데이터\n",
        "    wcss.append(kmeans_model.inertia_) # inertia_ 속성이 WCSS 값입니다.\n",
        "\n",
        "# WCSS 값을 그래프로 시각화"
      ]
    },
    {
      "cell_type": "code",
      "execution_count": null,
      "metadata": {
        "id": "44Vqn4lJ4ENC"
      },
      "outputs": [],
      "source": [
        "plt.figure(figsize=(10, 6))\n",
        "plt.plot(k_values, wcss, marker='o', linestyle='--')\n",
        "plt.title('Elbow Method for Optimal K')\n",
        "plt.xlabel('Number of Clusters (K)')\n",
        "plt.ylabel('WCSS (Inertia)')\n",
        "plt.xticks(k_values)\n",
        "plt.grid(True)\n",
        "plt.show()"
      ]
    },
    {
      "cell_type": "code",
      "execution_count": null,
      "metadata": {
        "id": "JOk-5SDc5cP5"
      },
      "outputs": [],
      "source": [
        "from sklearn.metrics import silhouette_score\n",
        "\n",
        "\n",
        "silhouette_scores = [] # 평균 실루엣 점수를 저장할 리스트\n",
        "k_values = range(2, 11) # 실루엣 점수는 최소 2개 클러스터부터 계산 가능\n",
        "\n",
        "for k in k_values:\n",
        "      kmeans_model = KMeans(n_clusters=k, random_state=0, n_init='auto')\n",
        "      cluster_labels = kmeans_model.fit_predict(df_scaled) # fit과 predict를 동시에\n",
        "      # 평균 실루엣 점수 계산\n",
        "      # silhouette_score 함수는 (데이터, 레이블) 순으로 인자를 받습니다.\n",
        "\n",
        "      score = silhouette_score(df_scaled, cluster_labels)\n",
        "      silhouette_scores.append(score)\n",
        "      print(f\"K = {k}, Silhouette Score = {score:.4f}\")\n"
      ]
    },
    {
      "cell_type": "code",
      "execution_count": null,
      "metadata": {
        "id": "EPj58T9D57wX"
      },
      "outputs": [],
      "source": [
        "# 평균 실루엣 점수를 그래프로 시각화\n",
        "plt.figure(figsize=(10, 6))\n",
        "plt.plot(k_values, silhouette_scores, marker='o', linestyle='--')\n",
        "plt.title('Silhouette Analysis for Optimal K')\n",
        "plt.xlabel('Number of Clusters (K)')\n",
        "plt.ylabel('Average Silhouette Score')\n",
        "plt.xticks(k_values)\n",
        "plt.grid(True)\n",
        "plt.show()"
      ]
    },
    {
      "cell_type": "code",
      "execution_count": null,
      "metadata": {
        "id": "3sucZ98T6uDj"
      },
      "outputs": [],
      "source": [
        "final_k = 7\n",
        "kmeans_final = KMeans(n_clusters=final_k, random_state=0, n_init='auto')\n",
        "final_labels = kmeans_final.fit_predict(df_scaled) # 또는 .fit(df_scaled) 후 .labels_"
      ]
    },
    {
      "cell_type": "code",
      "execution_count": null,
      "metadata": {
        "id": "HTd-jSAL7us4"
      },
      "outputs": [],
      "source": [
        "df_selected_numeric['cluster_label'] = final_labels"
      ]
    },
    {
      "cell_type": "code",
      "execution_count": null,
      "metadata": {
        "id": "R9XKSyGcoexm"
      },
      "outputs": [],
      "source": [
        "df_selected_numeric['cluster_label']"
      ]
    },
    {
      "cell_type": "markdown",
      "metadata": {
        "id": "zPkkx3Byo7_T"
      },
      "source": [
        "각 고객들을 0부터 숫자로 표시하고 그에 해당하는 값들은 클러스터링 한\n",
        "\n",
        "집단 값으로 표시된다 (0~6)\n",
        "\n"
      ]
    },
    {
      "cell_type": "code",
      "execution_count": null,
      "metadata": {
        "id": "1_X2X1EInzqg"
      },
      "outputs": [],
      "source": [
        "df_selected_numeric['cluster_label'].head()"
      ]
    },
    {
      "cell_type": "code",
      "execution_count": null,
      "metadata": {
        "id": "1ybQVNnO7vtz"
      },
      "outputs": [],
      "source": [
        "df_selected_numeric.groupby('cluster_label').mean()"
      ]
    },
    {
      "cell_type": "code",
      "execution_count": null,
      "metadata": {
        "id": "198aiFp_-xqd"
      },
      "outputs": [],
      "source": [
        "cluster_summary_mean = df_selected_numeric.groupby('cluster_label').mean()\n",
        "cluster_counts = df_selected_numeric['cluster_label'].value_counts().sort_index() # sort_index()로 클러스터 ID 순 정렬"
      ]
    },
    {
      "cell_type": "markdown",
      "metadata": {
        "id": "LaGHJMVVpmOv"
      },
      "source": [
        "각 클러스터링 0 부터 6까지 집단에서 소속되어있는 사람 숫자수를 count 값으로 표시한다."
      ]
    },
    {
      "cell_type": "code",
      "execution_count": null,
      "metadata": {
        "id": "K5Z4EtEbpMQP"
      },
      "outputs": [],
      "source": [
        "cluster_counts"
      ]
    },
    {
      "cell_type": "markdown",
      "metadata": {
        "id": "bnGULMhnr7TB"
      },
      "source": [
        " df_selected_numeric.groupby('cluster_label').mean() 에 나온 컬럼들로 이름을 지었다."
      ]
    },
    {
      "cell_type": "code",
      "execution_count": null,
      "metadata": {
        "id": "YP8hz9-8ATV6"
      },
      "outputs": [],
      "source": [
        "dominant_frequencies = {\n",
        "    0: \"Fortnightly\",\n",
        "    1: \"Annually\",\n",
        "    2: \"Monthly\",\n",
        "    3: \"Bi-Weekly\", # 또는 데이터셋의 정확한 명칭\n",
        "    4: \"Weekly\",\n",
        "    5: \"Quarterly\",\n",
        "    6: \"Every 3 Months\" # 또는 데이터셋의 정확한 명칭\n",
        "}"
      ]
    },
    {
      "cell_type": "code",
      "execution_count": null,
      "metadata": {
        "id": "t7oYu8CoCQn2"
      },
      "outputs": [],
      "source": [
        "cluster_names_map = {\n",
        "    0: \"2주 주기 실속형 고객\",\n",
        "    1: \"연례 방문형 고객\",\n",
        "    2: \"월간 계획형 고객\",\n",
        "    3: \"격주 알뜰형 고객\", # Fortnightly와 유사하므로, 실제 데이터에서 두 카테고리 의미가 같다면 통합 고려\n",
        "    4: \"위클리 핵심 고객\",\n",
        "    5: \"시즈널 알뜰 구매 고객\",\n",
        "    6: \"분기별 쇼핑 고객\"  # Quarterly와 유사하므로, 실제 데이터에서 두 카테고리 의미가 같다면 통합 고려\n",
        "}"
      ]
    },
    {
      "cell_type": "code",
      "execution_count": null,
      "metadata": {
        "id": "nE4jgjhiCULU"
      },
      "outputs": [],
      "source": [
        "# 각 구매 빈도별 마케팅 제안 예시\n",
        "marketing_suggestions_map = {\n",
        "    \"Weekly\": \"매주 발행되는 주간 핫딜 정보 및 신상품 알림을 통해 지속적인 관심 유도. 빠른 배송 옵션 강조.\",\n",
        "    \"Fortnightly\": \"2주 주기로 필요한 생활용품이나 식료품 재구매 알림. 함께 구매하면 좋은 상품 추천으로 객단가 증대 유도.\",\n",
        "    \"Bi-Weekly\": \"격주 쇼핑 패턴에 맞춰 특별 할인 쿠폰 또는 포인트 추가 적립 혜택 제공. 정기적인 관심 표현.\",\n",
        "    \"Monthly\": \"월간 구독 서비스 추천 또는 월별 테마 기획전 안내. 월급날 맞이 특별 프로모션 고려.\",\n",
        "    \"Quarterly\": \"계절 변경 시점에 맞춘 시즌 상품 제안 및 할인 이벤트. 대량 구매 시 추가 혜택 제공.\",\n",
        "    \"Every 3 Months\": \"분기별 트렌드 상품 소개 및 스타일링 팁 제공. 다음 구매 시점 예측하여 맞춤형 알림 발송.\",\n",
        "    \"Annually\": \"연간 주요 세일 이벤트(블랙프라이데이, 연말 등) 집중 공략. 기념일 또는 생일 특별 쿠폰 발송으로 재방문 유도 및 고객 감사 메시지 전달.\"\n",
        "}"
      ]
    },
    {
      "cell_type": "code",
      "execution_count": null,
      "metadata": {
        "id": "1bJJ3ECiATwZ"
      },
      "outputs": [],
      "source": [
        "final_k = 7\n",
        "cluster_data_for_json = []\n",
        "\n",
        "# 클러스터별 평균값 및 고객 수는 이전 단계에서 계산되었다고 가정\n",
        "# cluster_summary_mean = df_selected_numeric.groupby('cluster_label').mean()\n",
        "# cluster_counts = df_selected_numeric['cluster_label'].value_counts().sort_index()\n",
        "\n",
        "for i in range(final_k):\n",
        "    # 해당 클러스터의 주요 구매 빈도 가져오기\n",
        "    current_frequency = dominant_frequencies.get(i, \"N/A\")\n",
        "\n",
        "    cluster_info = {\n",
        "        \"cluster_id\": i,\n",
        "        \"cluster_name\": cluster_names_map.get(i, f\"고객 그룹 {i} ({current_frequency})\"), # 위에서 제안한 이름 사용\n",
        "        \"num_customers\": int(cluster_counts.get(i, 0)),\n",
        "        \"avg_age\": round(cluster_summary_mean.loc[i, 'Age'], 2),\n",
        "        \"avg_purchase_amount\": round(cluster_summary_mean.loc[i, 'Purchase Amount (USD)'], 2),\n",
        "        \"subscription_rate\": round(cluster_summary_mean.loc[i, 'Subscription Status_Yes'], 4),\n",
        "        \"dominant_frequency\": current_frequency,\n",
        "        \"marketing_suggestion\": marketing_suggestions_map.get(current_frequency, \"맞춤형 마케팅 제안이 필요합니다.\") # 위에서 제안한 내용 사용\n",
        "    }\n",
        "    cluster_data_for_json.append(cluster_info)"
      ]
    },
    {
      "cell_type": "code",
      "execution_count": null,
      "metadata": {
        "id": "EGRTqBVQBXxD"
      },
      "outputs": [],
      "source": [
        "import json\n",
        "\n",
        "# 파일 저장 경로 및 이름 설정 (예: 'cluster_analysis_results.json')\n",
        "# 이 파일은 나중에 React 프로젝트의 public 폴더나 src 폴더로 옮겨서 사용할 수 있다.\n",
        "json_file_path = 'customer_segments_k7.json'\n",
        "\n",
        "with open(json_file_path, 'w', encoding='utf-8') as f:\n",
        "    json.dump(cluster_data_for_json, f, ensure_ascii=False, indent=4)\n",
        "\n",
        "print(f\"JSON 파일이 '{json_file_path}' 경로에 저장되었습니다.\")"
      ]
    },
    {
      "cell_type": "code",
      "execution_count": null,
      "metadata": {
        "id": "__5opgILClOd"
      },
      "outputs": [],
      "source": [
        "print(f\"JSON 파일이 '{json_file_path}' 경로에 저장되었습니다.\")\n",
        "print(\"\\n생성된 JSON 데이터 미리보기 (첫 번째 클러스터):\")\n",
        "if cluster_data_for_json:\n",
        "    print(json.dumps(cluster_data_for_json[0], ensure_ascii=False, indent=4))"
      ]
    },
    {
      "cell_type": "markdown",
      "metadata": {
        "id": "VvzxNV4j5Tsy"
      },
      "source": [
        "# 추가적인 데이터 뽑기"
      ]
    },
    {
      "cell_type": "markdown",
      "metadata": {
        "id": "kFJHhywZtuAk"
      },
      "source": [
        "원본 df에 'cluster_label' 컬럼 추가하기"
      ]
    },
    {
      "cell_type": "code",
      "execution_count": null,
      "metadata": {
        "id": "MzYtErEf5ZuX"
      },
      "outputs": [],
      "source": [
        "# 원본 데이터프레임 df에 클러스터링 결과를 새로운 컬럼으로 추가\n",
        "df['cluster_label'] = final_labels"
      ]
    },
    {
      "cell_type": "code",
      "execution_count": null,
      "metadata": {
        "id": "ImXUIMOGprGn"
      },
      "outputs": [],
      "source": [
        "final_labels"
      ]
    },
    {
      "cell_type": "code",
      "execution_count": null,
      "metadata": {
        "id": "69nCl-7rqPyD"
      },
      "outputs": [],
      "source": [
        "df['cluster_label']"
      ]
    },
    {
      "cell_type": "code",
      "execution_count": null,
      "metadata": {
        "id": "ByRkvOYg0S3W"
      },
      "outputs": [],
      "source": [
        "df.head()"
      ]
    },
    {
      "cell_type": "code",
      "execution_count": null,
      "metadata": {
        "id": "7Iyo_Qixxbnd"
      },
      "outputs": [],
      "source": [
        "cluster_df = df[df['cluster_label'] == 0].copy()\n",
        "cluster_df.head()"
      ]
    },
    {
      "cell_type": "code",
      "execution_count": null,
      "metadata": {
        "id": "udoCcDNvyeWe"
      },
      "outputs": [],
      "source": [
        "total_customers_in_cluster = len(cluster_df)\n",
        "total_customers_in_cluster"
      ]
    },
    {
      "cell_type": "code",
      "execution_count": null,
      "metadata": {
        "id": "1FilIveL0uGA"
      },
      "outputs": [],
      "source": [
        "cluster_df['Location'].value_counts().head(3)"
      ]
    },
    {
      "cell_type": "code",
      "execution_count": null,
      "metadata": {
        "id": "ylC6a_0J_YG_"
      },
      "outputs": [],
      "source": [
        "df[\"Discount Applied\"].value_counts(\"Yes\")"
      ]
    },
    {
      "cell_type": "code",
      "execution_count": null,
      "metadata": {
        "id": "M7hHl33e0YJm"
      },
      "outputs": [],
      "source": [
        "# 각 클러스터별로 분석 결과를 저장할 딕셔너리\n",
        "cluster_analysis_results = {}\n",
        "num_clusters = 7 # final_k\n",
        "\n",
        "for i in range(num_clusters):\n",
        "   # 해당 클러스터 데이터만 필터링\n",
        "    cluster_df = df[df['cluster_label'] == i].copy()\n",
        "    total_customers_in_cluster = len(cluster_df)\n",
        "\n",
        "     # 데이터가 없는 클러스터는 건너뛰기\n",
        "    if total_customers_in_cluster == 0:\n",
        "        continue\n",
        "\n",
        "\n",
        "    # 상위 5개 아이템과 상위 4개 카테고리 추출\n",
        "\n",
        "    top_items_series = cluster_df['Item Purchased'].value_counts().head(5)\n",
        "    top_items = [\n",
        "        {\n",
        "            \"items\": name, \"count\": int(count), \"percentage\": round(count / total_customers_in_cluster * 100, 2)\n",
        "        }\n",
        "        for name, count in top_items_series.items()\n",
        "    ]\n",
        "    top_categories_series = cluster_df['Category'].value_counts().head(4)\n",
        "    top_categories = [\n",
        "        {\n",
        "            \"category\": name, \"count\": int(count), \"percentage\": round(count / total_customers_in_cluster * 100, 2)\n",
        "        }\n",
        "        for name, count in top_categories_series.items()\n",
        "    ]\n",
        "\n",
        "    # 상위 3개 지역 추출\n",
        "    top_location_series = cluster_df['Location'].value_counts().head(3)\n",
        "    top_location = [\n",
        "        {\n",
        "            \"location\": name, \"count\": int(count), \"percentage\": round(count / total_customers_in_cluster * 100, 2)\n",
        "        }\n",
        "        for name, count in top_location_series.items()\n",
        "    ]\n",
        "    # 4계절 선호도 순위 추출\n",
        "    top_season_series = cluster_df['Season'].value_counts()\n",
        "    top_season = [\n",
        "        {\n",
        "            \"season\": name, \"count\": int(count), \"percentage\": round(count / total_customers_in_cluster * 100, 2)\n",
        "        }\n",
        "        for name, count in top_season_series.items()\n",
        "    ]\n",
        "\n",
        "    # 상위 3개 결제 수단 추출\n",
        "    top_payment_series = cluster_df['Payment Method'].value_counts().head(3)\n",
        "    top_payment = [\n",
        "        {\n",
        "            \"payment\": name, \"count\": int(count), \"percentage\": round(count / total_customers_in_cluster * 100, 2)\n",
        "        }\n",
        "        for name, count in top_payment_series.items()\n",
        "    ]\n",
        "    # 할인 사용률(%) 계산\n",
        "    discount_usage_rate =  round(cluster_df['Discount Applied'].value_counts(normalize=True).get('Yes',0) * 100, 2)\n",
        "\n",
        "    # 평균 리뷰 점수 계산\n",
        "    review_rating_score = round(cluster_df['Review Rating'].mean(), 2)\n",
        "\n",
        "    # 결과 저장\n",
        "    cluster_analysis_results[i] = {\n",
        "        \"top_items\": top_items,\n",
        "        \"top_categories\": top_categories,\n",
        "        \"top_location\": top_location,\n",
        "        \"top_season\": top_season,\n",
        "        \"top_payment\": top_payment,\n",
        "        \"discount_usage_rate\": discount_usage_rate,\n",
        "        \"review_rating_score\": review_rating_score\n",
        "    }"
      ]
    },
    {
      "cell_type": "code",
      "execution_count": null,
      "metadata": {
        "id": "Zm5Ps5FKYCGB"
      },
      "outputs": [],
      "source": [
        "# 원본 데이터의 각 컬럼별 고유 값 개수 계산\n",
        "unique_items = df['Item Purchased'].unique()\n",
        "total_unique_items = len(unique_items)\n",
        "\n",
        "unique_payment_methods = df['Payment Method'].unique()\n",
        "total_unique_payment_methods = len(unique_payment_methods)\n",
        "\n",
        "unique_locations = df['Location'].unique()\n",
        "total_unique_locations = len(unique_locations)\n",
        "\n",
        "unique_categories = df['Category'].unique() # unique_categories가 이미 정의되지 않았다면 여기서 정의합니다.\n",
        "total_unique_categories = len(unique_categories)"
      ]
    },
    {
      "cell_type": "code",
      "execution_count": null,
      "metadata": {
        "id": "BxT-sNlmYEFq"
      },
      "outputs": [],
      "source": [
        "# cluster_analysis_results 딕셔너리에 새로운 키를 추가하여 원본 데이터 정보 저장\n",
        "\n",
        "cluster_analysis_results['overall_data_summary'] = {\n",
        "    \"total_unique_items\": total_unique_items,\n",
        "    \"total_unique_payment\": total_unique_payment_methods,\n",
        "    \"total_unique_locations\": total_unique_locations,\n",
        "    \"total_unique_categories\": total_unique_categories\n",
        "}\n"
      ]
    },
    {
      "cell_type": "code",
      "execution_count": null,
      "metadata": {
        "id": "99EL1lNh__q9"
      },
      "outputs": [],
      "source": [
        "# 최종 결과 확인\n",
        "import json\n",
        "print(json.dumps(cluster_analysis_results, indent=4, ensure_ascii=False))"
      ]
    },
    {
      "cell_type": "code",
      "execution_count": null,
      "metadata": {
        "id": "HYL-7JNAB33z"
      },
      "outputs": [],
      "source": [
        "file_to_save = 'customer_segments_detailed.json'\n",
        "\n",
        "with open(file_to_save, 'w', encoding='utf-8') as f:\n",
        "    json.dump(cluster_analysis_results, f, ensure_ascii=False, indent=4)\n",
        "\n",
        "print(f\"JSON 파일이 '{file_to_save}' 경로에 저장되었습니다.\")"
      ]
    },
    {
      "cell_type": "markdown",
      "metadata": {
        "id": "9zWJh6T0D-Yz"
      },
      "source": [
        "두 데이터 합치기"
      ]
    },
    {
      "cell_type": "code",
      "execution_count": null,
      "metadata": {
        "id": "l4txZQ_CEAeU"
      },
      "outputs": [],
      "source": [
        "import json\n",
        "\n",
        "# 1. 기존 데이터를 불러옵니다 (파일 경로는 실제 위치에 맞게 수정)\n",
        "with open(json_file_path, 'r', encoding='utf-8') as f:\n",
        "        original_data = json.load(f)\n",
        "\n",
        "# 2. 'cluster_analysis_results'는 방금 위에서 생성한 딕셔너리입니다.\n",
        "# (이 코드는 cluster_analysis_results가 이미 생성된 셀 다음에 와야 합니다)\n",
        "\n",
        "# 3. 두 데이터를 합칩니다.\n",
        "final_data = []\n",
        "for original_cluster in  original_data:\n",
        "  if 'cluster_id' in original_cluster:\n",
        "    cluster_id = original_cluster['cluster_id']\n",
        "\n",
        "\n",
        "    if cluster_id in cluster_analysis_results:\n",
        "      original_cluster.update(cluster_analysis_results[cluster_id])\n",
        "  else:\n",
        "      print(f\"Warning: cluster_id {cluster_id} not found in cluster_analysis_results.\")\n",
        "\n",
        "\n",
        "\n",
        "\n",
        "  final_data.append(original_cluster)\n",
        "\n",
        "# 4. 최종적으로 합쳐진 데이터를 새로운 JSON 파일로 저장합니다.\n",
        "final_json_path = 'customer_segments_final.json'\n",
        "with open(final_json_path, 'w', encoding='utf-8') as f:\n",
        "    json.dump(final_data, f, ensure_ascii=False, indent=4)\n",
        "\n",
        "print(f\"모든 정보가 통합된 최종 JSON 파일이 '{final_json_path}' 경로에 저장되었습니다.\")\n",
        "print(\"\\n통합된 데이터 미리보기 (첫 번째 클러스터):\")\n",
        "print(json.dumps(final_data[0], ensure_ascii=False, indent=4))"
      ]
    },
    {
      "cell_type": "code",
      "execution_count": null,
      "metadata": {
        "id": "lyd_Nk1SaRK0"
      },
      "outputs": [],
      "source": [
        "# 최종 데이터를 저장할 새로운 딕셔너리를 만듭니다.\n",
        "final_output_data = {\n",
        "    \"cluster_segments\": final_data, # 클러스터별 정보 리스트\n",
        "    \"overall_data_summary\": cluster_analysis_results.get(\"overall_data_summary\", {}) # 원본 데이터 요약 정보 가져오기\n",
        "}\n",
        "\n",
        "\n",
        "# 이 새로운 딕셔너리를 JSON 파일로 저장합니다.\n",
        "final_json_path = 'customer_segments_final_method2.json'\n",
        "with open(final_json_path, 'w', encoding='utf-8') as f:\n",
        "    json.dump(final_output_data, f, ensure_ascii=False, indent=4)\n",
        "\n",
        "print(f\"모든 정보가 통합된 최종 JSON 파일 (방법 2)이 '{final_json_path}' 경로에 저장되었습니다.\")"
      ]
    },
    {
      "cell_type": "code",
      "execution_count": null,
      "metadata": {
        "id": "wLpbTgn4Um5V"
      },
      "outputs": [],
      "source": [
        "\n",
        "# 'Category' 컬럼의 고유 값들을 가져옵니다.\n",
        "unique_categories = df['Category'].unique()\n",
        "\n",
        "# 고유 값의 개수를 셉니다.\n",
        "total_unique_categories = len(unique_categories)\n",
        "\n",
        "print(f\"원본 데이터의 'Category' 컬럼은 총 {total_unique_categories}가지 고유 카테고리로 구성되어 있습니다.\")\n"
      ]
    },
    {
      "cell_type": "code",
      "execution_count": null,
      "metadata": {
        "id": "5zFumBVFUtIh"
      },
      "outputs": [],
      "source": [
        "# 'Location' 컬럼의 고유 값들을 가져옵니다.\n",
        "unique_locations = df['Location'].unique()\n",
        "\n",
        "# 고유 값의 개수를 셉니다.\n",
        "total_unique_locations = len(unique_locations)\n",
        "\n",
        "print(f\"원본 데이터의 'Location' 컬럼은 총 {total_unique_locations}가지 고유 지역으로 구성되어 있습니다.\")"
      ]
    },
    {
      "cell_type": "code",
      "execution_count": null,
      "metadata": {
        "id": "4pf5g6NhU-2g"
      },
      "outputs": [],
      "source": [
        "# 'Payment Method' 컬럼의 고유 값들을 가져옵니다.\n",
        "\n",
        "unique_payment_methods = df['Payment Method'].unique()\n",
        "\n",
        "# 고유 값의 개수를 셉니다.\n",
        "total_unique_payment_methods = len(unique_payment_methods)\n",
        "\n",
        "print(f\"원본 데이터의 'Payment Method' 컬럼은 총 {total_unique_payment_methods}가지 고유 지불 방식으로 구성되어 있습니다.\")"
      ]
    },
    {
      "cell_type": "code",
      "execution_count": null,
      "metadata": {
        "id": "nqn2tbCYVK0-"
      },
      "outputs": [],
      "source": [
        "# 'Item Purchased' 컬럼의 고유 값들을 가져옵니다.\n",
        "unique_items = df['Item Purchased'].unique()\n",
        "\n",
        "# 고유 값의 개수를 셉니다.\n",
        "total_unique_items = len(unique_items)\n",
        "\n",
        "print(f\"원본 데이터의 'Item Purchased' 컬럼은 총 {total_unique_items}가지 고유 상품으로 구성되어 있습니다.\")"
      ]
    }
  ],
  "metadata": {
    "colab": {
      "provenance": []
    },
    "kernelspec": {
      "display_name": "Python 3",
      "name": "python3"
    },
    "language_info": {
      "name": "python"
    }
  },
  "nbformat": 4,
  "nbformat_minor": 0
}
